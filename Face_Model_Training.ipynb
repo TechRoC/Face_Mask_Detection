{
  "nbformat": 4,
  "nbformat_minor": 0,
  "metadata": {
    "colab": {
      "name": "Face_Model_Training.ipynb",
      "provenance": [],
      "mount_file_id": "1Vzw-LRx35kZxYhJqB8I-BlqVQYHeibxh",
      "authorship_tag": "ABX9TyNumiGL0vDNY44prcAFQvvY",
      "include_colab_link": true
    },
    "kernelspec": {
      "name": "python3",
      "display_name": "Python 3"
    },
    "accelerator": "GPU"
  },
  "cells": [
    {
      "cell_type": "markdown",
      "metadata": {
        "id": "view-in-github",
        "colab_type": "text"
      },
      "source": [
        "<a href=\"https://colab.research.google.com/github/UrmilaJasiwar/Face_Mask_Detection/blob/master/Face_Model_Training.ipynb\" target=\"_parent\"><img src=\"https://colab.research.google.com/assets/colab-badge.svg\" alt=\"Open In Colab\"/></a>"
      ]
    },
    {
      "cell_type": "code",
      "metadata": {
        "id": "vtgR-L92rEue",
        "colab_type": "code",
        "colab": {}
      },
      "source": [
        "'''\n",
        "tensorflow version is  2.3.0\n",
        "import keras version is 2.4.3\n",
        "'''\n",
        "\n",
        "from tensorflow.keras.preprocessing.image import ImageDataGenerator\n",
        "from tensorflow.keras.applications import InceptionV3\n",
        "from tensorflow.keras.layers import AveragePooling2D\n",
        "from tensorflow.keras.layers import Dropout\n",
        "from tensorflow.keras.layers import Flatten\n",
        "from tensorflow.keras.layers import Dense\n",
        "from tensorflow.keras.layers import Input\n",
        "from tensorflow.keras.models import Model\n",
        "from tensorflow.keras.optimizers import Adam\n",
        "from tensorflow.keras.applications.inception_v3 import preprocess_input\n",
        "from tensorflow.keras.preprocessing.image import img_to_array\n",
        "from tensorflow.keras.preprocessing.image import load_img\n",
        "from tensorflow.keras.utils import to_categorical\n",
        "from sklearn.preprocessing import LabelBinarizer\n",
        "from sklearn.model_selection import train_test_split\n",
        "from sklearn.metrics import classification_report\n",
        "from imutils import paths\n",
        "import matplotlib.pyplot as plt\n",
        "import numpy as np\n",
        "from keras.callbacks import ModelCheckpoint"
      ],
      "execution_count": null,
      "outputs": []
    },
    {
      "cell_type": "code",
      "metadata": {
        "id": "MDQnWmleu93B",
        "colab_type": "code",
        "colab": {}
      },
      "source": [
        "DIRECTORY = r\"/content/drive/My Drive/dataset\" # Data Location\n",
        "CATEGORIES = [\"with_mask\", \"without_mask\"]"
      ],
      "execution_count": null,
      "outputs": []
    },
    {
      "cell_type": "code",
      "metadata": {
        "id": "e6peEVfN0Suo",
        "colab_type": "code",
        "colab": {}
      },
      "source": [
        "#process data\n",
        "images = []\n",
        "labels = []\n",
        "cont = 1\n",
        "for category in CATEGORIES:\n",
        "    path = os.path.join(DIRECTORY, category)\n",
        "    for img in os.listdir(path):\n",
        "      cont += 1\n",
        "      img_path = os.path.join(path, img)\n",
        "      image = load_img(img_path, target_size=(299, 299))\n",
        "      image = img_to_array(image)\n",
        "      image = preprocess_input(image)\n",
        "      images.append(image)\n",
        "      labels.append(category)\n",
        "      print(\"impage processed : \",cont)\n",
        "     "
      ],
      "execution_count": null,
      "outputs": []
    },
    {
      "cell_type": "code",
      "metadata": {
        "id": "4cYOBJtayO0-",
        "colab_type": "code",
        "colab": {}
      },
      "source": [
        "#performing one_hot_encoding on labels\n",
        "lb = LabelBinarizer()\n",
        "labels = lb.fit_transform(labels)\n",
        "labels = to_categorical(labels)\n",
        "\n",
        "images = np.array(images, dtype=\"float32\")\n",
        "labels = np.array(labels)\n",
        "#split data into train and test\n",
        "(trainX, testX, trainY, testY) = train_test_split(images, labels,test_size=0.20, stratify=labels, random_state=32)"
      ],
      "execution_count": null,
      "outputs": []
    },
    {
      "cell_type": "code",
      "metadata": {
        "id": "t6aLvIhK2UmX",
        "colab_type": "code",
        "colab": {}
      },
      "source": [
        "#image Augmentation\n",
        "aug = ImageDataGenerator(\n",
        "\trotation_range=20,\n",
        "\tzoom_range=0.15,\n",
        "\twidth_shift_range=0.2,\n",
        "\theight_shift_range=0.2,\n",
        "\tshear_range=0.15,\n",
        "\thorizontal_flip=True,\n",
        "\tfill_mode=\"nearest\")"
      ],
      "execution_count": null,
      "outputs": []
    },
    {
      "cell_type": "code",
      "metadata": {
        "id": "9VfCzXJC3NFm",
        "colab_type": "code",
        "colab": {}
      },
      "source": [
        "#Model\n",
        "baseModel = InceptionV3(include_top=False,\n",
        "\tinput_tensor=Input(shape=(299, 299, 3)))\n",
        "Model1 = baseModel.output\n",
        "Model1 = AveragePooling2D(pool_size=(8, 8))(Model1)\n",
        "Model1 = Flatten(name=\"flatten\")(Model1)\n",
        "Model1 = Dense(512, activation=\"relu\")(Model1)\n",
        "Model1 = Dropout(0.5)(Model1)\n",
        "Model1= Dense(2, activation=\"softmax\")(Model1)\n",
        "model = Model(inputs=baseModel.input, outputs=Model1)"
      ],
      "execution_count": null,
      "outputs": []
    },
    {
      "cell_type": "code",
      "metadata": {
        "id": "s3XBrZDT6Ytu",
        "colab_type": "code",
        "colab": {}
      },
      "source": [
        "for layer in baseModel.layers:\n",
        "\tlayer.trainable = False"
      ],
      "execution_count": null,
      "outputs": []
    },
    {
      "cell_type": "code",
      "metadata": {
        "id": "HIoAAmjy6pBa",
        "colab_type": "code",
        "colab": {}
      },
      "source": [
        "LR = 1e-4\n",
        "EPOCHS = 20\n",
        "BS = 32\n",
        "opt = Adam(lr=LR, decay=LR / EPOCHS)\n",
        "model.compile(loss=\"binary_crossentropy\", optimizer=opt,\n",
        "\tmetrics=[\"accuracy\"])"
      ],
      "execution_count": null,
      "outputs": []
    },
    {
      "cell_type": "code",
      "metadata": {
        "id": "qypZpQQrDiNN",
        "colab_type": "code",
        "colab": {}
      },
      "source": [
        "\n",
        "filepath = '/content/drive/My Drive/Face_model/model-ep{epoch:03d}-loss{loss:.3f}-val_loss{val_loss:.3f}.h5'\n",
        "checkpoint = ModelCheckpoint(filepath, monitor='val_loss', verbose=1, save_best_only=True, mode='min')"
      ],
      "execution_count": null,
      "outputs": []
    },
    {
      "cell_type": "code",
      "metadata": {
        "id": "DKJXmkaM7C4I",
        "colab_type": "code",
        "colab": {
          "base_uri": "https://localhost:8080/",
          "height": 1000
        },
        "outputId": "987314ea-06d8-4563-88ec-65387f3d153c"
      },
      "source": [
        "\n",
        "model.fit(\n",
        "\taug.flow(trainX, trainY, batch_size=BS),\n",
        "\tsteps_per_epoch=len(trainX) // BS,\n",
        "\tvalidation_data=(testX, testY),\n",
        "\tvalidation_steps=len(testX) // BS,\n",
        "\tepochs=EPOCHS,callbacks=[checkpoint])"
      ],
      "execution_count": null,
      "outputs": [
        {
          "output_type": "stream",
          "text": [
            "Epoch 1/20\n",
            "95/95 [==============================] - ETA: 0s - loss: 0.1647 - accuracy: 0.9341\n",
            "Epoch 00001: val_loss improved from inf to 0.03753, saving model to /content/drive/My Drive/Face_model/model-ep001-loss0.165-val_loss0.038.h5\n",
            "95/95 [==============================] - 59s 619ms/step - loss: 0.1647 - accuracy: 0.9341 - val_loss: 0.0375 - val_accuracy: 0.9896\n",
            "Epoch 2/20\n",
            "95/95 [==============================] - ETA: 0s - loss: 0.0478 - accuracy: 0.9832\n",
            "Epoch 00002: val_loss improved from 0.03753 to 0.02893, saving model to /content/drive/My Drive/Face_model/model-ep002-loss0.048-val_loss0.029.h5\n",
            "95/95 [==============================] - 56s 588ms/step - loss: 0.0478 - accuracy: 0.9832 - val_loss: 0.0289 - val_accuracy: 0.9935\n",
            "Epoch 3/20\n",
            "95/95 [==============================] - ETA: 0s - loss: 0.0396 - accuracy: 0.9885\n",
            "Epoch 00003: val_loss did not improve from 0.02893\n",
            "95/95 [==============================] - 54s 573ms/step - loss: 0.0396 - accuracy: 0.9885 - val_loss: 0.0292 - val_accuracy: 0.9909\n",
            "Epoch 4/20\n",
            "95/95 [==============================] - ETA: 0s - loss: 0.0322 - accuracy: 0.9918\n",
            "Epoch 00004: val_loss improved from 0.02893 to 0.02386, saving model to /content/drive/My Drive/Face_model/model-ep004-loss0.032-val_loss0.024.h5\n",
            "95/95 [==============================] - 55s 576ms/step - loss: 0.0322 - accuracy: 0.9918 - val_loss: 0.0239 - val_accuracy: 0.9935\n",
            "Epoch 5/20\n",
            "95/95 [==============================] - ETA: 0s - loss: 0.0215 - accuracy: 0.9934\n",
            "Epoch 00005: val_loss improved from 0.02386 to 0.02315, saving model to /content/drive/My Drive/Face_model/model-ep005-loss0.021-val_loss0.023.h5\n",
            "95/95 [==============================] - 55s 576ms/step - loss: 0.0215 - accuracy: 0.9934 - val_loss: 0.0232 - val_accuracy: 0.9935\n",
            "Epoch 6/20\n",
            "95/95 [==============================] - ETA: 0s - loss: 0.0209 - accuracy: 0.9931\n",
            "Epoch 00006: val_loss improved from 0.02315 to 0.02192, saving model to /content/drive/My Drive/Face_model/model-ep006-loss0.021-val_loss0.022.h5\n",
            "95/95 [==============================] - 55s 580ms/step - loss: 0.0209 - accuracy: 0.9931 - val_loss: 0.0219 - val_accuracy: 0.9935\n",
            "Epoch 7/20\n",
            "95/95 [==============================] - ETA: 0s - loss: 0.0239 - accuracy: 0.9927\n",
            "Epoch 00007: val_loss improved from 0.02192 to 0.02001, saving model to /content/drive/My Drive/Face_model/model-ep007-loss0.024-val_loss0.020.h5\n",
            "95/95 [==============================] - 56s 588ms/step - loss: 0.0239 - accuracy: 0.9927 - val_loss: 0.0200 - val_accuracy: 0.9948\n",
            "Epoch 8/20\n",
            "95/95 [==============================] - ETA: 0s - loss: 0.0174 - accuracy: 0.9934\n",
            "Epoch 00008: val_loss did not improve from 0.02001\n",
            "95/95 [==============================] - 54s 567ms/step - loss: 0.0174 - accuracy: 0.9934 - val_loss: 0.0226 - val_accuracy: 0.9935\n",
            "Epoch 9/20\n",
            "95/95 [==============================] - ETA: 0s - loss: 0.0183 - accuracy: 0.9931\n",
            "Epoch 00009: val_loss improved from 0.02001 to 0.01884, saving model to /content/drive/My Drive/Face_model/model-ep009-loss0.018-val_loss0.019.h5\n",
            "95/95 [==============================] - 55s 576ms/step - loss: 0.0183 - accuracy: 0.9931 - val_loss: 0.0188 - val_accuracy: 0.9948\n",
            "Epoch 10/20\n",
            "95/95 [==============================] - ETA: 0s - loss: 0.0227 - accuracy: 0.9927\n",
            "Epoch 00010: val_loss improved from 0.01884 to 0.01781, saving model to /content/drive/My Drive/Face_model/model-ep010-loss0.023-val_loss0.018.h5\n",
            "95/95 [==============================] - 55s 579ms/step - loss: 0.0227 - accuracy: 0.9927 - val_loss: 0.0178 - val_accuracy: 0.9948\n",
            "Epoch 11/20\n",
            "95/95 [==============================] - ETA: 0s - loss: 0.0177 - accuracy: 0.9941\n",
            "Epoch 00011: val_loss did not improve from 0.01781\n",
            "95/95 [==============================] - 53s 560ms/step - loss: 0.0177 - accuracy: 0.9941 - val_loss: 0.0209 - val_accuracy: 0.9935\n",
            "Epoch 12/20\n",
            "95/95 [==============================] - ETA: 0s - loss: 0.0172 - accuracy: 0.9947\n",
            "Epoch 00012: val_loss did not improve from 0.01781\n",
            "95/95 [==============================] - 53s 559ms/step - loss: 0.0172 - accuracy: 0.9947 - val_loss: 0.0186 - val_accuracy: 0.9948\n",
            "Epoch 13/20\n",
            "95/95 [==============================] - ETA: 0s - loss: 0.0150 - accuracy: 0.9947\n",
            "Epoch 00013: val_loss did not improve from 0.01781\n",
            "95/95 [==============================] - 53s 560ms/step - loss: 0.0150 - accuracy: 0.9947 - val_loss: 0.0203 - val_accuracy: 0.9948\n",
            "Epoch 14/20\n",
            "95/95 [==============================] - ETA: 0s - loss: 0.0123 - accuracy: 0.9947\n",
            "Epoch 00014: val_loss improved from 0.01781 to 0.01739, saving model to /content/drive/My Drive/Face_model/model-ep014-loss0.012-val_loss0.017.h5\n",
            "95/95 [==============================] - 54s 570ms/step - loss: 0.0123 - accuracy: 0.9947 - val_loss: 0.0174 - val_accuracy: 0.9948\n",
            "Epoch 15/20\n",
            "95/95 [==============================] - ETA: 0s - loss: 0.0121 - accuracy: 0.9977\n",
            "Epoch 00015: val_loss did not improve from 0.01739\n",
            "95/95 [==============================] - 53s 560ms/step - loss: 0.0121 - accuracy: 0.9977 - val_loss: 0.0198 - val_accuracy: 0.9935\n",
            "Epoch 16/20\n",
            "95/95 [==============================] - ETA: 0s - loss: 0.0102 - accuracy: 0.9957\n",
            "Epoch 00016: val_loss did not improve from 0.01739\n",
            "95/95 [==============================] - 53s 555ms/step - loss: 0.0102 - accuracy: 0.9957 - val_loss: 0.0181 - val_accuracy: 0.9948\n",
            "Epoch 17/20\n",
            "95/95 [==============================] - ETA: 0s - loss: 0.0107 - accuracy: 0.9957\n",
            "Epoch 00017: val_loss improved from 0.01739 to 0.01726, saving model to /content/drive/My Drive/Face_model/model-ep017-loss0.011-val_loss0.017.h5\n",
            "95/95 [==============================] - 54s 563ms/step - loss: 0.0107 - accuracy: 0.9957 - val_loss: 0.0173 - val_accuracy: 0.9935\n",
            "Epoch 18/20\n",
            "95/95 [==============================] - ETA: 0s - loss: 0.0119 - accuracy: 0.9957\n",
            "Epoch 00018: val_loss improved from 0.01726 to 0.01654, saving model to /content/drive/My Drive/Face_model/model-ep018-loss0.012-val_loss0.017.h5\n",
            "95/95 [==============================] - 53s 559ms/step - loss: 0.0119 - accuracy: 0.9957 - val_loss: 0.0165 - val_accuracy: 0.9961\n",
            "Epoch 19/20\n",
            "95/95 [==============================] - ETA: 0s - loss: 0.0150 - accuracy: 0.9937\n",
            "Epoch 00019: val_loss did not improve from 0.01654\n",
            "95/95 [==============================] - 52s 553ms/step - loss: 0.0150 - accuracy: 0.9937 - val_loss: 0.0223 - val_accuracy: 0.9948\n",
            "Epoch 20/20\n",
            "95/95 [==============================] - ETA: 0s - loss: 0.0158 - accuracy: 0.9947\n",
            "Epoch 00020: val_loss improved from 0.01654 to 0.01532, saving model to /content/drive/My Drive/Face_model/model-ep020-loss0.016-val_loss0.015.h5\n",
            "95/95 [==============================] - 53s 553ms/step - loss: 0.0158 - accuracy: 0.9947 - val_loss: 0.0153 - val_accuracy: 0.9948\n"
          ],
          "name": "stdout"
        },
        {
          "output_type": "execute_result",
          "data": {
            "text/plain": [
              "<tensorflow.python.keras.callbacks.History at 0x7f4f51a396d8>"
            ]
          },
          "metadata": {
            "tags": []
          },
          "execution_count": 13
        }
      ]
    },
    {
      "cell_type": "code",
      "metadata": {
        "id": "GbGD9EuA7R1b",
        "colab_type": "code",
        "colab": {}
      },
      "source": [
        "predIdxs = model.predict(testX, batch_size=BS)"
      ],
      "execution_count": null,
      "outputs": []
    },
    {
      "cell_type": "code",
      "metadata": {
        "id": "VdyJG4eK7aaT",
        "colab_type": "code",
        "colab": {
          "base_uri": "https://localhost:8080/",
          "height": 170
        },
        "outputId": "cd9cd311-aef0-407b-e9ab-252e6cd94dc7"
      },
      "source": [
        "#Model accuracy report\n",
        "predIdxs = np.argmax(predIdxs, axis=1)\n",
        "print(classification_report(testY.argmax(axis=1), predIdxs,\n",
        "\ttarget_names=lb.classes_))"
      ],
      "execution_count": null,
      "outputs": [
        {
          "output_type": "stream",
          "text": [
            "              precision    recall  f1-score   support\n",
            "\n",
            "   with_mask       1.00      0.99      0.99       383\n",
            "without_mask       0.99      1.00      0.99       384\n",
            "\n",
            "    accuracy                           0.99       767\n",
            "   macro avg       0.99      0.99      0.99       767\n",
            "weighted avg       0.99      0.99      0.99       767\n",
            "\n"
          ],
          "name": "stdout"
        }
      ]
    },
    {
      "cell_type": "code",
      "metadata": {
        "id": "pky5ZR35dTpa",
        "colab_type": "code",
        "colab": {}
      },
      "source": [
        "'''\n",
        "Change kernel size and Activation Function of headModel parameters, \n",
        "feeding More data to the Model, Adding Noise to the Data, \n",
        "Alter image  size,Alter color channels would help in adding little accuracy \n",
        "to the Model\n",
        "'''\n"
      ],
      "execution_count": null,
      "outputs": []
    },
    {
      "cell_type": "code",
      "metadata": {
        "id": "qUmfBTyQVVE9",
        "colab_type": "code",
        "colab": {}
      },
      "source": [
        ""
      ],
      "execution_count": null,
      "outputs": []
    }
  ]
}