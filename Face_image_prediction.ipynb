{
  "nbformat": 4,
  "nbformat_minor": 0,
  "metadata": {
    "colab": {
      "name": "Face_image_prediction.ipynb",
      "provenance": [],
      "mount_file_id": "1FfoiEXVHZipPGYKv8navcbuxZ3I_HuvM",
      "authorship_tag": "ABX9TyOHN2z1tF7mKvDVOsJQ9JAK",
      "include_colab_link": true
    },
    "kernelspec": {
      "name": "python3",
      "display_name": "Python 3"
    },
    "accelerator": "GPU"
  },
  "cells": [
    {
      "cell_type": "markdown",
      "metadata": {
        "id": "view-in-github",
        "colab_type": "text"
      },
      "source": [
        "<a href=\"https://colab.research.google.com/github/UrmilaJasiwar/Face_Mask_Detection/blob/master/Face_image_prediction.ipynb\" target=\"_parent\"><img src=\"https://colab.research.google.com/assets/colab-badge.svg\" alt=\"Open In Colab\"/></a>"
      ]
    },
    {
      "cell_type": "code",
      "metadata": {
        "id": "WSZVpeozOveL",
        "colab_type": "code",
        "colab": {}
      },
      "source": [
        "# import the necessary packages\n",
        "from tensorflow.keras.applications.inception_v3 import preprocess_input\n",
        "from tensorflow.keras.preprocessing.image import img_to_array\n",
        "from tensorflow.keras.models import load_model\n",
        "import numpy as np\n",
        "import cv2\n",
        "import os\n",
        "\n",
        "#predicting the image\n",
        "def mask_image():\n",
        "  mask_cont = no_mask_cont = 0\n",
        "  prototxtPath ='/content/drive/My Drive/face_detector/deploy.prototxt'\n",
        "  weightsPath = '/content/drive/My Drive/face_detector/res10_300x300_ssd_iter_140000.caffemodel'\n",
        "  net = cv2.dnn.readNet(prototxtPath, weightsPath)\n",
        "  model = load_model('/content/drive/My Drive/Face_model/model-ep020-loss0.016-val_loss0.015.h5')\n",
        "  image = cv2.imread('/content/drive/My Drive/face_detector/e35d1b65f1ee4f7f9a3d75a2662cc32d_18.jpg')\n",
        "  orig = image.copy()\n",
        "  (h, w) = image.shape[:2]\n",
        "  blob = cv2.dnn.blobFromImage(image, 1.0, (299, 299),\n",
        "\t\t(104.0, 177.0, 123.0))\n",
        "  net.setInput(blob)\n",
        "  detections = net.forward()\n",
        "  for i in range(0, detections.shape[2]):\n",
        "    confidence = detections[0, 0, i, 2]\n",
        "    if confidence > 0.5:\n",
        "      box = detections[0, 0, i, 3:7] * np.array([w, h, w, h])\n",
        "      (startX, startY, endX, endY) = box.astype(\"int\")\n",
        "      (startX, startY) = (max(0, startX), max(0, startY))\n",
        "      (endX, endY) = (min(w - 1, endX), min(h - 1, endY))\n",
        "      face = image[startY:endY, startX:endX]\n",
        "      face = cv2.cvtColor(face, cv2.COLOR_BGR2RGB)\n",
        "      face = cv2.resize(face, (299, 299))\n",
        "      face = img_to_array(face)\n",
        "      face = preprocess_input(face)\n",
        "      face = np.expand_dims(face, axis=0)\n",
        "      (mask, withoutMask) = model.predict(face)[0]\n",
        "      if mask > withoutMask:s\n",
        "        label = \"Mask\"\n",
        "        mask_cont += 1\n",
        "      else:\n",
        "        label = \"No Mask\"\n",
        "        no_mask_cont += 1\n",
        "      color = (0, 255, 0) if label == \"Mask\" else (0, 0, 255)\n",
        "      cv2.putText(image, label, (startX, startY - 10),cv2.FONT_HERSHEY_SIMPLEX, 0.45, color, 2)\n",
        "      cv2.rectangle(image, (startX, startY), (endX, endY), color, 2)\n",
        "  cv2.putText(image, \"People with Mask : \"+str(mask_cont) , (startX-20, startY - 150),\n",
        "\t\t\t\tcv2.FONT_HERSHEY_SIMPLEX, 0.45, (255,255,255), 1)\n",
        "  cv2.putText(image, \"People without Mask : \"+str(no_mask_cont) , (startX-20, startY - 120),\n",
        "\t\t\t\tcv2.FONT_HERSHEY_SIMPLEX, 0.45, (255,255,255), 1)\n",
        "  cv2.imwrite(\"Output2.jpg\", image)\n",
        " \n",
        "mask_image()"
      ],
      "execution_count": null,
      "outputs": []
    },
    {
      "cell_type": "code",
      "metadata": {
        "id": "eMnta7c_eLlp",
        "colab_type": "code",
        "colab": {}
      },
      "source": [
        ""
      ],
      "execution_count": null,
      "outputs": []
    }
  ]
}